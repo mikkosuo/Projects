{
 "cells": [
  {
   "cell_type": "markdown",
   "metadata": {},
   "source": [
    "Recursive depth first search solution to Subset sum problem (https://en.m.wikipedia.org/wiki/Subset_sum_problem).\n",
    "\n",
    "The task is to find the smallest subset of unique numbers from a list such that the sum of its elements equals a specific target value. \n",
    "The goal is to use the fewest numbers possible from the list to reach the target sum."
   ]
  },
  {
   "cell_type": "code",
   "execution_count": 10,
   "metadata": {},
   "outputs": [],
   "source": [
    "import random"
   ]
  },
  {
   "cell_type": "code",
   "execution_count": 11,
   "metadata": {},
   "outputs": [],
   "source": [
    "SetOfUniqueNumbers = random.sample(range(1, 100000), 100)\n",
    "TargetSum = 54321"
   ]
  },
  {
   "cell_type": "code",
   "execution_count": 12,
   "metadata": {},
   "outputs": [
    {
     "name": "stdout",
     "output_type": "stream",
     "text": [
      "Target sum: 54321\n",
      "Iter : 0\n",
      "Iter : 100000\n",
      "Iter : 200000\n",
      "Iter : 300000\n",
      "Iter : 400000\n",
      "Iter : 500000\n",
      "Combination found on iter: 589990\n",
      "[36642, 10014, 7665]\n"
     ]
    }
   ],
   "source": [
    "class RecursionTracker:\n",
    "    def __init__(self):\n",
    "        self._solution_found = False\n",
    "        self._iter_count = 0\n",
    "    def solution_found(self):\n",
    "        self._solution_found = True\n",
    "    def is_solution_found(self):\n",
    "        return self._solution_found \n",
    "    def add_iter(self):\n",
    "        self._iter_count += 1\n",
    "    def print_iter(self, PrintFreq):\n",
    "        if self._iter_count % PrintFreq == 0:\n",
    "            print(f\"Iter : {self._iter_count}\")\n",
    "    def get_iter(self):\n",
    "        return self._iter_count\n",
    "recursionTracker = RecursionTracker()\n",
    "\n",
    "def recursion(CurrentList, InputListCopy):\n",
    "    if recursionTracker.is_solution_found():\n",
    "        return # Solution was found already earlier\n",
    "\n",
    "    recursionTracker.print_iter(100000)\n",
    "    recursionTracker.add_iter()\n",
    "\n",
    "    # Case 1: Solution found, stop the search\n",
    "    if(sum(CurrentList) == TargetSum):\n",
    "        print(f\"Combination found on iter: {recursionTracker.get_iter()}\")\n",
    "        print(CurrentList)\n",
    "        recursionTracker.solution_found()\n",
    "        return\n",
    "\n",
    "    # Case 2: Don't continue with this set's supersets (Pruning)\n",
    "    if sum(CurrentList) > TargetSum:\n",
    "        return\n",
    "    \n",
    "    # Recursively call DFS for all non discovered sets\n",
    "    unusedValues = [value for value in InputListCopy if value not in CurrentList]  \n",
    "    for value in unusedValues:\n",
    "        NewProposal = CurrentList + [value]\n",
    "        recursion(NewProposal, InputListCopy) # Case 3: Recursively expand the proposal set\n",
    "\n",
    "\n",
    "print(f\"Target sum: {TargetSum}\")\n",
    "sortedList = sorted(SetOfUniqueNumbers, reverse=True)\n",
    "InputListCopy = sortedList.copy()\n",
    "while len(InputListCopy) > 0:\n",
    "    if recursionTracker.is_solution_found():\n",
    "        break\n",
    "    if(sum(InputListCopy) < TargetSum):\n",
    "        print(\"Impossible\")\n",
    "        break\n",
    "    BiggestNum = InputListCopy[0]\n",
    "    recursion([BiggestNum], InputListCopy)\n",
    "    InputListCopy.remove(BiggestNum)\n",
    "\n",
    "if not recursionTracker.is_solution_found():\n",
    "    print(\"No solution\")"
   ]
  }
 ],
 "metadata": {
  "kernelspec": {
   "display_name": "Aalto",
   "language": "python",
   "name": "python3"
  },
  "language_info": {
   "codemirror_mode": {
    "name": "ipython",
    "version": 3
   },
   "file_extension": ".py",
   "mimetype": "text/x-python",
   "name": "python",
   "nbconvert_exporter": "python",
   "pygments_lexer": "ipython3",
   "version": "3.12.4"
  }
 },
 "nbformat": 4,
 "nbformat_minor": 2
}
